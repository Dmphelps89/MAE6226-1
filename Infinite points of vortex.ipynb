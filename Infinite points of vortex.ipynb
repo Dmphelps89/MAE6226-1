{
 "cells": [
  {
   "cell_type": "markdown",
   "metadata": {},
   "source": [
    "# Infinite points of vortex"
   ]
  },
  {
   "cell_type": "code",
   "execution_count": 348,
   "metadata": {
    "collapsed": false
   },
   "outputs": [],
   "source": [
    "import numpy\n",
    "from matplotlib import pyplot\n",
    "%matplotlib inline\n",
    "import math"
   ]
  },
  {
   "cell_type": "code",
   "execution_count": 349,
   "metadata": {
    "collapsed": false
   },
   "outputs": [],
   "source": [
    "N = 51\n",
    "x = numpy.linspace(-1.0, 1.0, N)\n",
    "y = numpy.linspace(-1.0, 1.0, N)\n",
    "X, Y = numpy.meshgrid(x, y)"
   ]
  },
  {
   "cell_type": "code",
   "execution_count": 350,
   "metadata": {
    "collapsed": false
   },
   "outputs": [
    {
     "data": {
      "text/plain": [
       "array([[-1.  , -0.96, -0.92, ...,  0.92,  0.96,  1.  ],\n",
       "       [-1.  , -0.96, -0.92, ...,  0.92,  0.96,  1.  ],\n",
       "       [-1.  , -0.96, -0.92, ...,  0.92,  0.96,  1.  ],\n",
       "       ..., \n",
       "       [-1.  , -0.96, -0.92, ...,  0.92,  0.96,  1.  ],\n",
       "       [-1.  , -0.96, -0.92, ...,  0.92,  0.96,  1.  ],\n",
       "       [-1.  , -0.96, -0.92, ...,  0.92,  0.96,  1.  ]])"
      ]
     },
     "execution_count": 350,
     "metadata": {},
     "output_type": "execute_result"
    }
   ],
   "source": [
    "X"
   ]
  },
  {
   "cell_type": "code",
   "execution_count": 351,
   "metadata": {
    "collapsed": false
   },
   "outputs": [
    {
     "data": {
      "text/plain": [
       "(51, 51)"
      ]
     },
     "execution_count": 351,
     "metadata": {},
     "output_type": "execute_result"
    }
   ],
   "source": [
    "numpy.shape(X)"
   ]
  },
  {
   "cell_type": "code",
   "execution_count": 352,
   "metadata": {
    "collapsed": true
   },
   "outputs": [],
   "source": [
    "N1 = 41\n",
    "x_source = numpy.linspace(-2.0, 2.0,N1)-.1"
   ]
  },
  {
   "cell_type": "code",
   "execution_count": 353,
   "metadata": {
    "collapsed": false
   },
   "outputs": [
    {
     "data": {
      "text/plain": [
       "array([ -2.10000000e+00,  -2.00000000e+00,  -1.90000000e+00,\n",
       "        -1.80000000e+00,  -1.70000000e+00,  -1.60000000e+00,\n",
       "        -1.50000000e+00,  -1.40000000e+00,  -1.30000000e+00,\n",
       "        -1.20000000e+00,  -1.10000000e+00,  -1.00000000e+00,\n",
       "        -9.00000000e-01,  -8.00000000e-01,  -7.00000000e-01,\n",
       "        -6.00000000e-01,  -5.00000000e-01,  -4.00000000e-01,\n",
       "        -3.00000000e-01,  -2.00000000e-01,  -1.00000000e-01,\n",
       "         8.32667268e-17,   1.00000000e-01,   2.00000000e-01,\n",
       "         3.00000000e-01,   4.00000000e-01,   5.00000000e-01,\n",
       "         6.00000000e-01,   7.00000000e-01,   8.00000000e-01,\n",
       "         9.00000000e-01,   1.00000000e+00,   1.10000000e+00,\n",
       "         1.20000000e+00,   1.30000000e+00,   1.40000000e+00,\n",
       "         1.50000000e+00,   1.60000000e+00,   1.70000000e+00,\n",
       "         1.80000000e+00,   1.90000000e+00])"
      ]
     },
     "execution_count": 353,
     "metadata": {},
     "output_type": "execute_result"
    }
   ],
   "source": [
    "x_source"
   ]
  },
  {
   "cell_type": "code",
   "execution_count": 354,
   "metadata": {
    "collapsed": false
   },
   "outputs": [
    {
     "data": {
      "text/plain": [
       "(41,)"
      ]
     },
     "execution_count": 354,
     "metadata": {},
     "output_type": "execute_result"
    }
   ],
   "source": [
    "numpy.shape(x_source)"
   ]
  },
  {
   "cell_type": "code",
   "execution_count": 355,
   "metadata": {
    "collapsed": true
   },
   "outputs": [],
   "source": [
    "y_source = numpy.zeros(len(x_source))+0.1"
   ]
  },
  {
   "cell_type": "code",
   "execution_count": 356,
   "metadata": {
    "collapsed": false
   },
   "outputs": [
    {
     "data": {
      "text/plain": [
       "array([ 0.1,  0.1,  0.1,  0.1,  0.1,  0.1,  0.1,  0.1,  0.1,  0.1,  0.1,\n",
       "        0.1,  0.1,  0.1,  0.1,  0.1,  0.1,  0.1,  0.1,  0.1,  0.1,  0.1,\n",
       "        0.1,  0.1,  0.1,  0.1,  0.1,  0.1,  0.1,  0.1,  0.1,  0.1,  0.1,\n",
       "        0.1,  0.1,  0.1,  0.1,  0.1,  0.1,  0.1,  0.1])"
      ]
     },
     "execution_count": 356,
     "metadata": {},
     "output_type": "execute_result"
    }
   ],
   "source": [
    "y_source"
   ]
  },
  {
   "cell_type": "code",
   "execution_count": 357,
   "metadata": {
    "collapsed": false
   },
   "outputs": [
    {
     "data": {
      "text/plain": [
       "(41,)"
      ]
     },
     "execution_count": 357,
     "metadata": {},
     "output_type": "execute_result"
    }
   ],
   "source": [
    "numpy.shape(y_source)"
   ]
  },
  {
   "cell_type": "code",
   "execution_count": 358,
   "metadata": {
    "collapsed": true
   },
   "outputs": [],
   "source": [
    "gamma_source = numpy.ones(len(x_source))*500"
   ]
  },
  {
   "cell_type": "code",
   "execution_count": 359,
   "metadata": {
    "collapsed": false
   },
   "outputs": [
    {
     "data": {
      "text/plain": [
       "array([ 500.,  500.,  500.,  500.,  500.,  500.,  500.,  500.,  500.,\n",
       "        500.,  500.,  500.,  500.,  500.,  500.,  500.,  500.,  500.,\n",
       "        500.,  500.,  500.,  500.,  500.,  500.,  500.,  500.,  500.,\n",
       "        500.,  500.,  500.,  500.,  500.,  500.,  500.,  500.,  500.,\n",
       "        500.,  500.,  500.,  500.,  500.])"
      ]
     },
     "execution_count": 359,
     "metadata": {},
     "output_type": "execute_result"
    }
   ],
   "source": [
    "gamma_source"
   ]
  },
  {
   "cell_type": "code",
   "execution_count": 360,
   "metadata": {
    "collapsed": true
   },
   "outputs": [],
   "source": [
    "def get_velocity_vortex(strength, xv, yv, X, Y):\n",
    "    u = +strength/(2*math.pi)*(Y-yv)/((X-xv)**2+(Y-yv)**2)\n",
    "    v = -strength/(2*math.pi)*(X-xv)/((X-xv)**2+(Y-yv)**2)\n",
    "    \n",
    "    return u,v"
   ]
  },
  {
   "cell_type": "code",
   "execution_count": 361,
   "metadata": {
    "collapsed": true
   },
   "outputs": [],
   "source": [
    "def get_stream_function_vortex(strength, xv, yv, X, Y):\n",
    "    psi = strength/(4*math.pi)*numpy.log((X-xv)**2+(Y-yv)**2)\n",
    "    \n",
    "    return psi"
   ]
  },
  {
   "cell_type": "markdown",
   "metadata": {},
   "source": [
    "## superpostion"
   ]
  },
  {
   "cell_type": "code",
   "execution_count": 362,
   "metadata": {
    "collapsed": false
   },
   "outputs": [],
   "source": [
    "u_vortex1, v_vortex1, psi1 = 0, 0, 0\n",
    "\n",
    "for i in range(N1):\n",
    "    u_vortex, v_vortex = get_velocity_vortex(gamma_source[i], x_source[i], y_source[i], X, Y)\n",
    "    psi_vortex = get_stream_function_vortex(gamma_source[i], x_source[i], y_source[i], X, Y)\n",
    "    \n",
    "    u_vortex1 += u_vortex\n",
    "    v_vortex1 += v_vortex\n",
    "    psi1 += psi_vortex"
   ]
  },
  {
   "cell_type": "code",
   "execution_count": 363,
   "metadata": {
    "collapsed": false
   },
   "outputs": [
    {
     "data": {
      "text/plain": [
       "array([[-1608.81216233, -1618.81107289, -1628.23968576, ...,\n",
       "        -1575.23218944, -1562.78973833, -1549.69549804],\n",
       "       [-1633.03909514, -1643.09673434, -1652.5710972 , ...,\n",
       "        -1599.18527812, -1586.61156965, -1573.36195674],\n",
       "       [-1657.86713594, -1667.96557711, -1677.46833348, ...,\n",
       "        -1623.79546326, -1611.10934938, -1597.72295197],\n",
       "       ..., \n",
       "       [ 1791.49961917,  1801.45993246,  1810.7781894 , ...,\n",
       "         1757.44545952,  1744.58600582,  1730.90915658],\n",
       "       [ 1763.46684864,  1773.50777703,  1782.91303844, ...,\n",
       "         1729.23403126,  1716.34618849,  1702.66263095],\n",
       "       [ 1736.0982279 ,  1746.19100448,  1755.65620813, ...,\n",
       "         1701.78298945,  1688.90187555,  1675.24798985]])"
      ]
     },
     "execution_count": 363,
     "metadata": {},
     "output_type": "execute_result"
    }
   ],
   "source": [
    "u_vortex1"
   ]
  },
  {
   "cell_type": "code",
   "execution_count": 364,
   "metadata": {
    "collapsed": false
   },
   "outputs": [
    {
     "data": {
      "text/plain": [
       "(51, 51)"
      ]
     },
     "execution_count": 364,
     "metadata": {},
     "output_type": "execute_result"
    }
   ],
   "source": [
    "numpy.shape(u_vortex1)"
   ]
  },
  {
   "cell_type": "code",
   "execution_count": 365,
   "metadata": {
    "collapsed": false
   },
   "outputs": [
    {
     "data": {
      "text/plain": [
       "array([[ 542.97233877,  519.00634031,  494.98004288, ..., -614.35763859,\n",
       "        -637.92135067, -661.3334978 ],\n",
       "       [ 553.29605574,  528.74482655,  504.15002326, ..., -626.54109126,\n",
       "        -650.75990211, -674.84452768],\n",
       "       [ 563.67669038,  538.52657597,  513.35147793, ..., -638.83537413,\n",
       "        -663.73217798, -688.5149413 ],\n",
       "       ..., \n",
       "       [ 615.68361354,  587.36306743,  559.14118953, ..., -701.1588087 ,\n",
       "        -729.78166245, -758.44164817],\n",
       "       [ 605.35117166,  577.68429359,  550.08708733, ..., -688.67294315,\n",
       "        -716.50788879, -744.34217345],\n",
       "       [ 594.95706814,  567.93548745,  540.95674506, ..., -676.1666893 ,\n",
       "        -703.2341067 , -730.26708656]])"
      ]
     },
     "execution_count": 365,
     "metadata": {},
     "output_type": "execute_result"
    }
   ],
   "source": [
    "v_vortex1"
   ]
  },
  {
   "cell_type": "code",
   "execution_count": 366,
   "metadata": {
    "collapsed": false
   },
   "outputs": [
    {
     "data": {
      "text/plain": [
       "array([[ 1624.16183262,  1602.92203563,  1582.64212859, ...,\n",
       "         1693.61058941,  1718.6566351 ,  1744.64227772],\n",
       "       [ 1559.32678664,  1537.68580214,  1517.02778068, ...,\n",
       "         1630.12439443,  1655.67082174,  1682.18339869],\n",
       "       [ 1493.51069003,  1471.46652088,  1450.42889619, ...,\n",
       "         1565.66700589,  1591.718697  ,  1618.76406093],\n",
       "       ..., \n",
       "       [ 1148.84377055,  1124.78315629,  1101.85340863, ...,\n",
       "         1227.84738117,  1256.46603295,  1286.23041113],\n",
       "       [ 1219.94087053,  1196.28038084,  1173.72519712, ...,\n",
       "         1297.5784058 ,  1325.68198823,  1354.89902988],\n",
       "       [ 1289.92997453,  1266.67225098,  1244.4945634 , ...,\n",
       "         1366.1962428 ,  1393.78433531,  1422.45451385]])"
      ]
     },
     "execution_count": 366,
     "metadata": {},
     "output_type": "execute_result"
    }
   ],
   "source": [
    "psi1"
   ]
  },
  {
   "cell_type": "code",
   "execution_count": 347,
   "metadata": {
    "collapsed": false
   },
   "outputs": [
    {
     "name": "stderr",
     "output_type": "stream",
     "text": [
      "/home/gil/anaconda3/lib/python3.5/site-packages/numpy/ma/core.py:852: RuntimeWarning: invalid value encountered in greater_equal\n",
      "  return umath.absolute(a) * self.tolerance >= umath.absolute(b)\n"
     ]
    },
    {
     "data": {
      "image/png": "[encoded data removed]",
      "text/plain": [
       "<matplotlib.figure.Figure at 0x7fd88cd32898>"
      ]
     },
     "metadata": {},
     "output_type": "display_data"
    }
   ],
   "source": [
    "size = 10\n",
    "pyplot.figure(figsize=(size, (1.0-(-1.0))/(2.0-(-2.0))*size))\n",
    "pyplot.xlabel('x', fontsize=16)\n",
    "pyplot.ylabel('y', fontsize=16)\n",
    "pyplot.xlim(-0.2, 0.2)\n",
    "pyplot.ylim(-0.2, 0.2)\n",
    "pyplot.streamplot(X, Y, u_vortex1, v_vortex1, density=10, linewidth=1.5, arrowsize=1, arrowstyle='->')\n",
    "pyplot.scatter(x_source, y_source, color='#CD2305', s=20, marker='o');"
   ]
  },
  {
   "cell_type": "code",
   "execution_count": null,
   "metadata": {
    "collapsed": true
   },
   "outputs": [],
   "source": []
  },
  {
   "cell_type": "code",
   "execution_count": null,
   "metadata": {
    "collapsed": true
   },
   "outputs": [],
   "source": []
  }
 ],
 "metadata": {
  "anaconda-cloud": {},
  "kernelspec": {
   "display_name": "Python [default]",
   "language": "python",
   "name": "python3"
  },
  "language_info": {
   "codemirror_mode": {
    "name": "ipython",
    "version": 3
   },
   "file_extension": ".py",
   "mimetype": "text/x-python",
   "name": "python",
   "nbconvert_exporter": "python",
   "pygments_lexer": "ipython3",
   "version": "3.5.2"
  }
 },
 "nbformat": 4,
 "nbformat_minor": 1
}
