{
 "cells": [
  {
   "cell_type": "code",
   "execution_count": 13,
   "metadata": {
    "collapsed": true
   },
   "outputs": [],
   "source": [
    "import numpy\n",
    "from matplotlib import pyplot\n",
    "%matplotlib inline"
   ]
  },
  {
   "cell_type": "code",
   "execution_count": 14,
   "metadata": {
    "collapsed": true
   },
   "outputs": [],
   "source": [
    "#meshgrid\n",
    "x_start, x_end = -1.0, 2.0\n",
    "y_start, y_start = -0.5, 0.5\n",
    "N = 51\n",
    "x = numpy.linspace(-1.0, 2.0, N)\n",
    "y = numpy.linspace(-0.5, 0.5, N)\n",
    "X, Y = numpy.meshgrid(x, y)"
   ]
  },
  {
   "cell_type": "code",
   "execution_count": 15,
   "metadata": {
    "collapsed": false
   },
   "outputs": [
    {
     "data": {
      "text/plain": [
       "(array([[-1.  , -0.94, -0.88, ...,  1.88,  1.94,  2.  ],\n",
       "        [-1.  , -0.94, -0.88, ...,  1.88,  1.94,  2.  ],\n",
       "        [-1.  , -0.94, -0.88, ...,  1.88,  1.94,  2.  ],\n",
       "        ..., \n",
       "        [-1.  , -0.94, -0.88, ...,  1.88,  1.94,  2.  ],\n",
       "        [-1.  , -0.94, -0.88, ...,  1.88,  1.94,  2.  ],\n",
       "        [-1.  , -0.94, -0.88, ...,  1.88,  1.94,  2.  ]]),\n",
       " array([[-0.5 , -0.5 , -0.5 , ..., -0.5 , -0.5 , -0.5 ],\n",
       "        [-0.48, -0.48, -0.48, ..., -0.48, -0.48, -0.48],\n",
       "        [-0.46, -0.46, -0.46, ..., -0.46, -0.46, -0.46],\n",
       "        ..., \n",
       "        [ 0.46,  0.46,  0.46, ...,  0.46,  0.46,  0.46],\n",
       "        [ 0.48,  0.48,  0.48, ...,  0.48,  0.48,  0.48],\n",
       "        [ 0.5 ,  0.5 ,  0.5 , ...,  0.5 ,  0.5 ,  0.5 ]]))"
      ]
     },
     "execution_count": 15,
     "metadata": {},
     "output_type": "execute_result"
    }
   ],
   "source": [
    "X,Y"
   ]
  },
  {
   "cell_type": "code",
   "execution_count": 20,
   "metadata": {
    "collapsed": false
   },
   "outputs": [
    {
     "data": {
      "text/plain": [
       "(100,)"
      ]
     },
     "execution_count": 20,
     "metadata": {},
     "output_type": "execute_result"
    }
   ],
   "source": [
    "#import data files\n",
    "x_source = numpy.loadtxt('../../AeroPython/lessons/resources/NACA0012_x.txt')\n",
    "y_source = numpy.loadtxt('../../AeroPython/lessons/resources/NACA0012_y.txt')\n",
    "sigma_source = numpy.loadtxt('../../AeroPython/lessons/resources/NACA0012_sigma.txt')\n",
    "numpy.shape(x_source)"
   ]
  },
  {
   "cell_type": "code",
   "execution_count": 17,
   "metadata": {
    "collapsed": true
   },
   "outputs": [],
   "source": [
    "import math"
   ]
  },
  {
   "cell_type": "code",
   "execution_count": 18,
   "metadata": {
    "collapsed": true
   },
   "outputs": [],
   "source": [
    "def get_velocity(strength, xs, ys, X, Y):\n",
    "    \n",
    "    u = strength/(2*numpy.pi)*(X-xs)/((X-xs)**2+(Y-ys)**2)\n",
    "    v = strength/(2*numpy.pi)*(Y-ys)/((X-xs)**2+(Y-ys)**2)\n",
    "    \n",
    "    return u, v"
   ]
  },
  {
   "cell_type": "code",
   "execution_count": 19,
   "metadata": {
    "collapsed": true
   },
   "outputs": [],
   "source": [
    "def get_stream_function(strength, xs, ys, X, Y):\n",
    "    \n",
    "    psi = strength/(2*numpy.pi)*numpy.arctan2((Y-ys), (X-xs))\n",
    "    \n",
    "    return psi"
   ]
  },
  {
   "cell_type": "code",
   "execution_count": 21,
   "metadata": {
    "collapsed": false
   },
   "outputs": [],
   "source": [
    "#superpostion\n",
    "u_source, v_source, psi_source= 0, 0, 0\n",
    "for i in range(100):\n",
    "    u_source1,v_source1 = get_velocity(sigma_source[i],x_source[i],y_source[i],X,Y)\n",
    "    psi_source1 = get_stream_function(sigma_source[i],x_source[i],y_source[i],X,Y)\n",
    "    \n",
    "    u_source = u_source1+u_source\n",
    "    v_source = v_source1+u_source\n",
    "    psi_source = psi_source1+psi_source"
   ]
  },
  {
   "cell_type": "code",
   "execution_count": 22,
   "metadata": {
    "collapsed": false
   },
   "outputs": [
    {
     "data": {
      "text/plain": [
       "array([[-0.00542396, -0.00569564, -0.00596639, ..., -0.00482657,\n",
       "        -0.00458448, -0.004351  ],\n",
       "       [-0.00560364, -0.00590372, -0.00620808, ..., -0.00498151,\n",
       "        -0.004719  , -0.00446816],\n",
       "       [-0.00578227, -0.00611129, -0.00645013, ..., -0.00513539,\n",
       "        -0.0048522 , -0.00458389],\n",
       "       ..., \n",
       "       [-0.00578227, -0.00611129, -0.00645013, ..., -0.00513539,\n",
       "        -0.0048522 , -0.00458389],\n",
       "       [-0.00560364, -0.00590372, -0.00620808, ..., -0.00498151,\n",
       "        -0.004719  , -0.00446816],\n",
       "       [-0.00542396, -0.00569564, -0.00596639, ..., -0.00482657,\n",
       "        -0.00458448, -0.004351  ]])"
      ]
     },
     "execution_count": 22,
     "metadata": {},
     "output_type": "execute_result"
    }
   ],
   "source": [
    "u_source"
   ]
  },
  {
   "cell_type": "code",
   "execution_count": 23,
   "metadata": {
    "collapsed": false
   },
   "outputs": [
    {
     "data": {
      "text/plain": [
       "array([[-0.00538742, -0.00565694, -0.00592535, ..., -0.00467509,\n",
       "        -0.0044476 , -0.00422686],\n",
       "       [-0.0055684 , -0.00586639, -0.00616848, ..., -0.00483326,\n",
       "        -0.00458528, -0.00434711],\n",
       "       [-0.00574835, -0.00607535, -0.00641199, ..., -0.00499062,\n",
       "        -0.00472187, -0.00446609],\n",
       "       ..., \n",
       "       [-0.00581628, -0.00614733, -0.00648837, ..., -0.00528041,\n",
       "        -0.00498277, -0.00470193],\n",
       "       [-0.00563897, -0.00594114, -0.00624778, ..., -0.00512999,\n",
       "        -0.00485294, -0.00458944],\n",
       "       [-0.0054606 , -0.00573443, -0.00600753, ..., -0.00497827,\n",
       "        -0.00472158, -0.00447534]])"
      ]
     },
     "execution_count": 23,
     "metadata": {},
     "output_type": "execute_result"
    }
   ],
   "source": [
    "v_source"
   ]
  },
  {
   "cell_type": "code",
   "execution_count": 24,
   "metadata": {
    "collapsed": false
   },
   "outputs": [
    {
     "data": {
      "text/plain": [
       "array([[ 0.00287556,  0.00317733,  0.00351663, ...,  0.00320127,\n",
       "         0.00296501,  0.00275311],\n",
       "       [ 0.00276529,  0.00306134,  0.00339489, ...,  0.00310318,\n",
       "         0.00287198,  0.00266492],\n",
       "       [ 0.00265143,  0.00294118,  0.00326831, ...,  0.00300201,\n",
       "         0.00277626,  0.00257439],\n",
       "       ..., \n",
       "       [-0.00265143, -0.00294118, -0.00326831, ..., -0.00300201,\n",
       "        -0.00277626, -0.00257439],\n",
       "       [-0.00276529, -0.00306134, -0.00339489, ..., -0.00310318,\n",
       "        -0.00287198, -0.00266492],\n",
       "       [-0.00287556, -0.00317733, -0.00351663, ..., -0.00320127,\n",
       "        -0.00296501, -0.00275311]])"
      ]
     },
     "execution_count": 24,
     "metadata": {},
     "output_type": "execute_result"
    }
   ],
   "source": [
    "psi_source"
   ]
  },
  {
   "cell_type": "code",
   "execution_count": 25,
   "metadata": {
    "collapsed": true
   },
   "outputs": [],
   "source": [
    "#free stream\n",
    "u_inf = 1.0\n",
    "\n",
    "u_freestream = u_inf * numpy.ones((N, N))\n",
    "v_freestream = numpy.zeros((N, N))"
   ]
  },
  {
   "cell_type": "code",
   "execution_count": null,
   "metadata": {
    "collapsed": true
   },
   "outputs": [],
   "source": []
  }
 ],
 "metadata": {
  "anaconda-cloud": {},
  "kernelspec": {
   "display_name": "Python [default]",
   "language": "python",
   "name": "python3"
  },
  "language_info": {
   "codemirror_mode": {
    "name": "ipython",
    "version": 3
   },
   "file_extension": ".py",
   "mimetype": "text/x-python",
   "name": "python",
   "nbconvert_exporter": "python",
   "pygments_lexer": "ipython3",
   "version": "3.5.2"
  }
 },
 "nbformat": 4,
 "nbformat_minor": 1
}
