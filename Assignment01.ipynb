{
 "cells": [
  {
   "cell_type": "code",
   "execution_count": 82,
   "metadata": {
    "collapsed": true
   },
   "outputs": [],
   "source": [
    "import numpy\n",
    "from matplotlib import pyplot\n",
    "%matplotlib inline"
   ]
  },
  {
   "cell_type": "code",
   "execution_count": 83,
   "metadata": {
    "collapsed": true
   },
   "outputs": [],
   "source": [
    "#meshgrid\n",
    "x_start, x_end = -1.0, 2.0\n",
    "y_start, y_end = -0.5, 0.5\n",
    "N = 51\n",
    "x = numpy.linspace(-1.0, 2.0, N)\n",
    "y = numpy.linspace(-0.5, 0.5, N)\n",
    "X, Y = numpy.meshgrid(x, y)"
   ]
  },
  {
   "cell_type": "code",
   "execution_count": 84,
   "metadata": {
    "collapsed": false
   },
   "outputs": [
    {
     "data": {
      "text/plain": [
       "(array([[-1.  , -0.94, -0.88, ...,  1.88,  1.94,  2.  ],\n",
       "        [-1.  , -0.94, -0.88, ...,  1.88,  1.94,  2.  ],\n",
       "        [-1.  , -0.94, -0.88, ...,  1.88,  1.94,  2.  ],\n",
       "        ..., \n",
       "        [-1.  , -0.94, -0.88, ...,  1.88,  1.94,  2.  ],\n",
       "        [-1.  , -0.94, -0.88, ...,  1.88,  1.94,  2.  ],\n",
       "        [-1.  , -0.94, -0.88, ...,  1.88,  1.94,  2.  ]]),\n",
       " array([[-0.5 , -0.5 , -0.5 , ..., -0.5 , -0.5 , -0.5 ],\n",
       "        [-0.48, -0.48, -0.48, ..., -0.48, -0.48, -0.48],\n",
       "        [-0.46, -0.46, -0.46, ..., -0.46, -0.46, -0.46],\n",
       "        ..., \n",
       "        [ 0.46,  0.46,  0.46, ...,  0.46,  0.46,  0.46],\n",
       "        [ 0.48,  0.48,  0.48, ...,  0.48,  0.48,  0.48],\n",
       "        [ 0.5 ,  0.5 ,  0.5 , ...,  0.5 ,  0.5 ,  0.5 ]]))"
      ]
     },
     "execution_count": 84,
     "metadata": {},
     "output_type": "execute_result"
    }
   ],
   "source": [
    "X,Y"
   ]
  },
  {
   "cell_type": "code",
   "execution_count": 85,
   "metadata": {
    "collapsed": false
   },
   "outputs": [
    {
     "data": {
      "text/plain": [
       "(51, 51)"
      ]
     },
     "execution_count": 85,
     "metadata": {},
     "output_type": "execute_result"
    }
   ],
   "source": [
    "numpy.shape(X)"
   ]
  },
  {
   "cell_type": "code",
   "execution_count": 86,
   "metadata": {
    "collapsed": false
   },
   "outputs": [
    {
     "data": {
      "text/plain": [
       "(100,)"
      ]
     },
     "execution_count": 86,
     "metadata": {},
     "output_type": "execute_result"
    }
   ],
   "source": [
    "#import data files\n",
    "x_source = numpy.loadtxt('../../AeroPython/lessons/resources/NACA0012_x.txt')\n",
    "y_source = numpy.loadtxt('../../AeroPython/lessons/resources/NACA0012_y.txt')\n",
    "sigma_source = numpy.loadtxt('../../AeroPython/lessons/resources/NACA0012_sigma.txt')\n",
    "numpy.shape(x_source)"
   ]
  },
  {
   "cell_type": "code",
   "execution_count": 87,
   "metadata": {
    "collapsed": true
   },
   "outputs": [],
   "source": [
    "import math"
   ]
  },
  {
   "cell_type": "code",
   "execution_count": 88,
   "metadata": {
    "collapsed": true
   },
   "outputs": [],
   "source": [
    "def get_velocity(strength, xs, ys, X, Y):\n",
    "    \n",
    "    u = strength/(2*numpy.pi)*(X-xs)/((X-xs)**2+(Y-ys)**2)\n",
    "    v = strength/(2*numpy.pi)*(Y-ys)/((X-xs)**2+(Y-ys)**2)\n",
    "    \n",
    "    return u, v"
   ]
  },
  {
   "cell_type": "code",
   "execution_count": 89,
   "metadata": {
    "collapsed": true
   },
   "outputs": [],
   "source": [
    "def get_stream_function(strength, xs, ys, X, Y):\n",
    "    \n",
    "    psi = strength/(2*numpy.pi)*numpy.arctan2((Y-ys), (X-xs))\n",
    "    \n",
    "    return psi"
   ]
  },
  {
   "cell_type": "code",
   "execution_count": 90,
   "metadata": {
    "collapsed": false
   },
   "outputs": [],
   "source": [
    "#superpostion\n",
    "u_source, v_source, psi_source= 0, 0, 0\n",
    "\n",
    "for i in range(100):\n",
    "    u_source1,v_source1 = get_velocity(sigma_source[i],x_source[i],y_source[i],X,Y)\n",
    "    psi_source1 = get_stream_function(sigma_source[i],x_source[i],y_source[i],X,Y)\n",
    "    \n",
    "    u_source = u_source1+u_source\n",
    "    v_source = v_source1+v_source\n",
    "    psi_source = psi_source1+psi_source"
   ]
  },
  {
   "cell_type": "code",
   "execution_count": 91,
   "metadata": {
    "collapsed": false
   },
   "outputs": [
    {
     "data": {
      "text/plain": [
       "(51, 51)"
      ]
     },
     "execution_count": 91,
     "metadata": {},
     "output_type": "execute_result"
    }
   ],
   "source": [
    "numpy.shape(u_source)"
   ]
  },
  {
   "cell_type": "code",
   "execution_count": 92,
   "metadata": {
    "collapsed": false
   },
   "outputs": [
    {
     "data": {
      "text/plain": [
       "array([[-0.00542396, -0.00569564, -0.00596639, ..., -0.00482657,\n",
       "        -0.00458448, -0.004351  ],\n",
       "       [-0.00560364, -0.00590372, -0.00620808, ..., -0.00498151,\n",
       "        -0.004719  , -0.00446816],\n",
       "       [-0.00578227, -0.00611129, -0.00645013, ..., -0.00513539,\n",
       "        -0.0048522 , -0.00458389],\n",
       "       ..., \n",
       "       [-0.00578227, -0.00611129, -0.00645013, ..., -0.00513539,\n",
       "        -0.0048522 , -0.00458389],\n",
       "       [-0.00560364, -0.00590372, -0.00620808, ..., -0.00498151,\n",
       "        -0.004719  , -0.00446816],\n",
       "       [-0.00542396, -0.00569564, -0.00596639, ..., -0.00482657,\n",
       "        -0.00458448, -0.004351  ]])"
      ]
     },
     "execution_count": 92,
     "metadata": {},
     "output_type": "execute_result"
    }
   ],
   "source": [
    "u_source"
   ]
  },
  {
   "cell_type": "code",
   "execution_count": 93,
   "metadata": {
    "collapsed": false
   },
   "outputs": [
    {
     "data": {
      "text/plain": [
       "array([[-0.00474589, -0.00532699, -0.00599976, ...,  0.00416002,\n",
       "         0.00372528,  0.0033467 ],\n",
       "       [-0.00465155, -0.00523107, -0.00590449, ...,  0.0040745 ,\n",
       "         0.00364276,  0.00326787],\n",
       "       [-0.00454845, -0.00512474, -0.00579686, ...,  0.00398153,\n",
       "         0.00355395,  0.00318369],\n",
       "       ..., \n",
       "       [ 0.00454845,  0.00512474,  0.00579686, ..., -0.00398153,\n",
       "        -0.00355395, -0.00318369],\n",
       "       [ 0.00465155,  0.00523107,  0.00590449, ..., -0.0040745 ,\n",
       "        -0.00364276, -0.00326787],\n",
       "       [ 0.00474589,  0.00532699,  0.00599976, ..., -0.00416002,\n",
       "        -0.00372528, -0.0033467 ]])"
      ]
     },
     "execution_count": 93,
     "metadata": {},
     "output_type": "execute_result"
    }
   ],
   "source": [
    "v_source"
   ]
  },
  {
   "cell_type": "code",
   "execution_count": 94,
   "metadata": {
    "collapsed": false
   },
   "outputs": [
    {
     "data": {
      "text/plain": [
       "array([[ 0.00287556,  0.00317733,  0.00351663, ...,  0.00320127,\n",
       "         0.00296501,  0.00275311],\n",
       "       [ 0.00276529,  0.00306134,  0.00339489, ...,  0.00310318,\n",
       "         0.00287198,  0.00266492],\n",
       "       [ 0.00265143,  0.00294118,  0.00326831, ...,  0.00300201,\n",
       "         0.00277626,  0.00257439],\n",
       "       ..., \n",
       "       [-0.00265143, -0.00294118, -0.00326831, ..., -0.00300201,\n",
       "        -0.00277626, -0.00257439],\n",
       "       [-0.00276529, -0.00306134, -0.00339489, ..., -0.00310318,\n",
       "        -0.00287198, -0.00266492],\n",
       "       [-0.00287556, -0.00317733, -0.00351663, ..., -0.00320127,\n",
       "        -0.00296501, -0.00275311]])"
      ]
     },
     "execution_count": 94,
     "metadata": {},
     "output_type": "execute_result"
    }
   ],
   "source": [
    "psi_source"
   ]
  },
  {
   "cell_type": "code",
   "execution_count": 95,
   "metadata": {
    "collapsed": true
   },
   "outputs": [],
   "source": [
    "#free stream\n",
    "u_inf = 1.0\n",
    "\n",
    "u_freestream = u_inf * numpy.ones((N, N))\n",
    "v_freestream = numpy.zeros((N, N))\n",
    "psi_freestream = u_inf * Y"
   ]
  },
  {
   "cell_type": "code",
   "execution_count": 96,
   "metadata": {
    "collapsed": true
   },
   "outputs": [],
   "source": [
    "#superpostion of freestream and set of sources\n",
    "u = u_freestream + u_source\n",
    "v = v_freestream + v_source\n",
    "psi = psi_freestream + psi_source"
   ]
  },
  {
   "cell_type": "code",
   "execution_count": 97,
   "metadata": {
    "collapsed": false
   },
   "outputs": [
    {
     "data": {
      "image/png": "[encoded data removed]",
      "text/plain": [
       "<matplotlib.figure.Figure at 0x7f0343843550>"
      ]
     },
     "metadata": {},
     "output_type": "display_data"
    }
   ],
   "source": [
    "size = 10\n",
    "pyplot.figure(figsize=(size, (y_end-y_start)/(x_end-x_start)*size))\n",
    "pyplot.xlabel('x', fontsize=16)\n",
    "pyplot.ylabel('y', fontsize=16)\n",
    "pyplot.xlim(x_start, x_end)\n",
    "pyplot.ylim(y_start, y_end)\n",
    "pyplot.scatter([x_source], [y_source], \n",
    "            color='#CD2305', s=80, marker='o', linewidth=0)\n",
    "pyplot.contour(X, Y, psi,  \n",
    "            colors='#CD2305', linewidths=2, linestyles='solid')\n",
    "pyplot.streamplot(X, Y, u, v, density=0.5, linewidth=1, arrowsize=2, arrowstyle='->');"
   ]
  },
  {
   "cell_type": "code",
   "execution_count": 98,
   "metadata": {
    "collapsed": false
   },
   "outputs": [
    {
     "data": {
      "text/plain": [
       "0.47144366133162408"
      ]
     },
     "execution_count": 98,
     "metadata": {},
     "output_type": "execute_result"
    }
   ],
   "source": [
    "# computes the max pressure coefficient field\n",
    "cp = 1.0 - (u**2+v**2)/u_inf**2\n",
    "cp_max = numpy.max(cp)\n",
    "cp_max"
   ]
  },
  {
   "cell_type": "code",
   "execution_count": 99,
   "metadata": {
    "collapsed": false
   },
   "outputs": [
    {
     "data": {
      "text/plain": [
       "(array([25]), array([16]))"
      ]
     },
     "execution_count": 99,
     "metadata": {},
     "output_type": "execute_result"
    }
   ],
   "source": [
    "numpy.where(cp == numpy.max(cp))"
   ]
  },
  {
   "cell_type": "code",
   "execution_count": 100,
   "metadata": {
    "collapsed": false
   },
   "outputs": [
    {
     "name": "stdout",
     "output_type": "stream",
     "text": [
      "-0.04 0.0\n"
     ]
    }
   ],
   "source": [
    "x_max = x[ numpy.where(cp == numpy.max(cp))[1][0] ]\n",
    "y_max = y[ numpy.where(cp == numpy.max(cp))[0][0] ]\n",
    "print(x_max, y_max)"
   ]
  },
  {
   "cell_type": "code",
   "execution_count": 104,
   "metadata": {
    "collapsed": false
   },
   "outputs": [
    {
     "data": {
      "image/png": "[encoded data removed]",
      "text/plain": [
       "<matplotlib.figure.Figure at 0x7f033d61d828>"
      ]
     },
     "metadata": {},
     "output_type": "display_data"
    }
   ],
   "source": [
    "size = 10\n",
    "pyplot.figure(figsize=(1.1*size, (y_end-y_start)/(x_end-x_start)*size))\n",
    "pyplot.xlabel('x', fontsize=16)\n",
    "pyplot.ylabel('y', fontsize=16)\n",
    "pyplot.xlim(-.1, .1)\n",
    "pyplot.ylim(y_start, y_end)\n",
    "contf = pyplot.contourf(X, Y, cp, levels=numpy.linspace(numpy.min(cp), numpy.max(cp), 1000), extend='both')\n",
    "cbar = pyplot.colorbar(contf)\n",
    "cbar.set_label('$C_p$', fontsize=16)\n",
    "cbar.set_ticks([-2.0, -1.0, 0.0, 1.0])\n",
    "pyplot.contour(X,Y,psi, levels=[0.], colors='#CD2305', linewidths=2, linestyles='solid')\n",
    "pyplot.scatter(x_source, y_source, color='#CD2305', s = 10, marker='o', linewidth=0)\n",
    "pyplot.scatter(x_max, y_max, color='b', s=80, marker='*', linewidth=0);"
   ]
  },
  {
   "cell_type": "code",
   "execution_count": 56,
   "metadata": {
    "collapsed": false
   },
   "outputs": [
    {
     "data": {
      "text/plain": [
       "array([[ 0.01079599,  0.01133045,  0.01186118, ...,  0.00961254,\n",
       "         0.00913407,  0.00867186],\n",
       "       [ 0.01115424,  0.01174522,  0.01234275, ...,  0.0099216 ,\n",
       "         0.00940245,  0.00890569],\n",
       "       [ 0.01151041,  0.01215898,  0.01282506, ...,  0.01022856,\n",
       "         0.00966822,  0.00913663],\n",
       "       ..., \n",
       "       [ 0.01151041,  0.01215898,  0.01282506, ...,  0.01022856,\n",
       "         0.00966822,  0.00913663],\n",
       "       [ 0.01115424,  0.01174522,  0.01234275, ...,  0.0099216 ,\n",
       "         0.00940245,  0.00890569],\n",
       "       [ 0.01079599,  0.01133045,  0.01186118, ...,  0.00961254,\n",
       "         0.00913407,  0.00867186]])"
      ]
     },
     "execution_count": 56,
     "metadata": {},
     "output_type": "execute_result"
    }
   ],
   "source": [
    "cp"
   ]
  },
  {
   "cell_type": "code",
   "execution_count": null,
   "metadata": {
    "collapsed": true
   },
   "outputs": [],
   "source": []
  }
 ],
 "metadata": {
  "anaconda-cloud": {},
  "kernelspec": {
   "display_name": "Python [default]",
   "language": "python",
   "name": "python3"
  },
  "language_info": {
   "codemirror_mode": {
    "name": "ipython",
    "version": 3
   },
   "file_extension": ".py",
   "mimetype": "text/x-python",
   "name": "python",
   "nbconvert_exporter": "python",
   "pygments_lexer": "ipython3",
   "version": "3.5.2"
  }
 },
 "nbformat": 4,
 "nbformat_minor": 1
}
